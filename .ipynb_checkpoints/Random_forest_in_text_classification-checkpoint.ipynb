{
 "cells": [
  {
   "cell_type": "code",
   "execution_count": 1,
   "metadata": {},
   "outputs": [],
   "source": [
    "import numpy as np\n",
    "import pandas as pd\n",
    "import seaborn as sns\n",
    "import matplotlib.pyplot as plt\n",
    "from sklearn.metrics import confusion_matrix\n",
    "from sklearn.naive_bayes import MultinomialNB, BernoulliNB\n",
    "from sklearn.ensemble import RandomForestClassifier as RFC\n",
    "from sklearn.feature_extraction.text import CountVectorizer,TfidfVectorizer\n",
    "from sklearn.metrics import accuracy_score, precision_score, recall_score, f1_score, classification_report"
   ]
  },
  {
   "cell_type": "code",
   "execution_count": 79,
   "metadata": {},
   "outputs": [],
   "source": [
    "\n",
    "# Parameter election\n",
    "ngram_range = (1,2)\n",
    "min_df = 1    #When building the vocabulary ignore terms that have a document frequency strictly lower than the given threshold.\n",
    "max_df = 1.   #max_df: When building the vocabulary ignore terms that have a document frequency strictly higher than the given threshold\n",
    "max_features = 2000\n",
    "count = CountVectorizer()\n",
    "tfidf = TfidfVectorizer(encoding='utf-8',\n",
    "                        ngram_range=ngram_range,\n",
    "                        stop_words=None,\n",
    "                        lowercase=False,\n",
    "                        max_df=max_df,\n",
    "                        min_df=min_df,\n",
    "                        max_features=max_features,\n",
    "                        norm='l2',\n",
    "                        sublinear_tf=True)\n",
    "#tfidf = TfidfVectorizer(max_df=max_df,min_df=min_df,max_features=2000)\n",
    "file_train = 'Project/training.csv'\n",
    "file_test = 'test.csv'\n",
    "df_train = pd.read_csv(file_train)\n",
    "df_test = pd.read_csv(file_test)\n",
    "train_text = df_train['article_words']\n",
    "test_text = df_test['article_words']\n",
    "all_test = pd.concat([train_text,test_text])\n",
    "\n",
    "bag_of_words = tfidf.fit(all_test)\n",
    "X_train = bag_of_words.transform(train_text)\n",
    "y_train = df_train['topic'].to_list()\n",
    "X_test = bag_of_words.transform(test_text)\n",
    "y_test = df_test['topic'].to_list()\n",
    "\n",
    "y = y_test + y_train\n",
    "topic_dict = dict.fromkeys(y)\n",
    "topic_dict.update((k,i) for i,k in enumerate(topic_dict))\n",
    "y_train = [topic_dict[k] for k in y_train]\n",
    "y_test = [topic_dict[k] for k in y_test]"
   ]
  },
  {
   "cell_type": "code",
   "execution_count": null,
   "metadata": {},
   "outputs": [],
   "source": []
  },
  {
   "cell_type": "code",
   "execution_count": 158,
   "metadata": {},
   "outputs": [
    {
     "data": {
      "text/plain": [
       "(60, 3)"
      ]
     },
     "execution_count": 158,
     "metadata": {},
     "output_type": "execute_result"
    }
   ],
   "source": [
    "bag_of_words.get_feature_names()\n",
    "#print(X_train)\n",
    "df_test[df_test['topic'] == 'SPORTS'].shape\n"
   ]
  },
  {
   "cell_type": "code",
   "execution_count": 50,
   "metadata": {},
   "outputs": [],
   "source": [
    "rf = RFC(n_estimators=200, #the number of trees in the forest 9\n",
    "         criterion='gini', #a way to decide the attribute\n",
    "         max_depth=80, #max depth of the tree\n",
    "         min_samples_split=9, #The minimum number of samples required to split an internal node\n",
    "         min_samples_leaf=1, #The minimum number of samples required to be at a leaf node\n",
    "         #min_weight_fraction_leaf=0.0, #The minimum weighted fraction of the sum total of weights (of all the input samples) required to be at a leaf node\n",
    "         max_features='sqrt', #The number of features to consider when looking for the best split:\n",
    "         max_leaf_nodes=None,\n",
    "         #min_impurity_decrease=0.0,#A node will be split if this split induces a decrease of the impurity greater than or equal to this value.\n",
    "         #min_impurity_split=None, #Threshold for early stopping in tree growth.\n",
    "         bootstrap=False,\n",
    "         #oob_score=False, #Whether to use out-of-bag samples to estimate the generalization accuracy.\n",
    "         #n_jobs=None,\n",
    "         #random_state=None,\n",
    "         #verbose=0, #Controls the verbosity when fitting and predicting.\n",
    "         warm_start=False) #When set to True, reuse the solution of the previous call to fit and add more estimators to the ensemble, otherwise, just fit a whole new forest.\n",
    "         #class_weight=None)\n",
    "         #ccp_alpha=0.0,\n",
    "         #max_samples=None)"
   ]
  },
  {
   "cell_type": "code",
   "execution_count": 80,
   "metadata": {},
   "outputs": [
    {
     "data": {
      "text/plain": [
       "RandomForestClassifier(bootstrap=True, class_weight=None, criterion='gini',\n",
       "                       max_depth=None, max_features='auto', max_leaf_nodes=None,\n",
       "                       min_impurity_decrease=0.0, min_impurity_split=None,\n",
       "                       min_samples_leaf=1, min_samples_split=2,\n",
       "                       min_weight_fraction_leaf=0.0, n_estimators=100,\n",
       "                       n_jobs=None, oob_score=False, random_state=None,\n",
       "                       verbose=0, warm_start=False)"
      ]
     },
     "execution_count": 80,
     "metadata": {},
     "output_type": "execute_result"
    }
   ],
   "source": [
    "rf.fit(X_train,y_train)"
   ]
  },
  {
   "cell_type": "code",
   "execution_count": 81,
   "metadata": {},
   "outputs": [
    {
     "name": "stdout",
     "output_type": "stream",
     "text": [
      "              precision    recall  f1-score   support\n",
      "\n",
      "           0       0.82      0.92      0.87       266\n",
      "           1       0.58      0.31      0.41        48\n",
      "           2       0.92      0.97      0.94        60\n",
      "           3       0.53      0.74      0.62        69\n",
      "           4       0.67      0.29      0.40         7\n",
      "           5       1.00      0.07      0.12        15\n",
      "           6       1.00      0.46      0.63        13\n",
      "           7       0.00      0.00      0.00         3\n",
      "           8       0.83      0.36      0.50        14\n",
      "           9       1.00      0.33      0.50         3\n",
      "          10       0.00      0.00      0.00         2\n",
      "\n",
      "    accuracy                           0.77       500\n",
      "   macro avg       0.67      0.40      0.45       500\n",
      "weighted avg       0.77      0.77      0.74       500\n",
      "\n",
      "\n",
      "\n",
      "              precision    recall  f1-score   support\n",
      "\n",
      "           0       1.00      0.99      1.00      4734\n",
      "           1       0.97      0.94      0.95       845\n",
      "           2       1.00      1.00      1.00      1102\n",
      "           3       0.96      0.99      0.97      1673\n",
      "           4       1.00      0.99      1.00       218\n",
      "           5       1.00      0.99      1.00       167\n",
      "           6       1.00      1.00      1.00       258\n",
      "           7       1.00      1.00      1.00        70\n",
      "           8       1.00      1.00      1.00       183\n",
      "           9       0.99      0.99      0.99       117\n",
      "          10       1.00      1.00      1.00       133\n",
      "\n",
      "    accuracy                           0.99      9500\n",
      "   macro avg       0.99      0.99      0.99      9500\n",
      "weighted avg       0.99      0.99      0.99      9500\n",
      "\n"
     ]
    },
    {
     "name": "stderr",
     "output_type": "stream",
     "text": [
      "/Users/apple/opt/anaconda3/lib/python3.7/site-packages/sklearn/metrics/classification.py:1437: UndefinedMetricWarning: Precision and F-score are ill-defined and being set to 0.0 in labels with no predicted samples.\n",
      "  'precision', 'predicted', average, warn_for)\n"
     ]
    }
   ],
   "source": [
    "predicted_y = rf.predict(X_test)\n",
    "predicted_y_train = rf.predict(X_train)\n",
    "print(classification_report(y_test,predicted_y))\n",
    "print(\"\\n\")\n",
    "print(classification_report(y_train,predicted_y_train))"
   ]
  },
  {
   "cell_type": "code",
   "execution_count": 59,
   "metadata": {},
   "outputs": [],
   "source": [
    "#predicted_y"
   ]
  },
  {
   "cell_type": "code",
   "execution_count": 34,
   "metadata": {},
   "outputs": [
    {
     "data": {
      "image/png": "[encoded data removed]",
      "text/plain": [
       "<Figure size 432x288 with 1 Axes>"
      ]
     },
     "metadata": {
      "needs_background": "light"
     },
     "output_type": "display_data"
    }
   ],
   "source": [
    "mat = confusion_matrix(y_test, predicted_y)\n",
    "sns.heatmap(mat.T, square=True, annot=True, fmt='d', cbar=False)\n",
    "plt.xlabel('true label')\n",
    "plt.ylabel('predicted label');"
   ]
  },
  {
   "cell_type": "code",
   "execution_count": null,
   "metadata": {},
   "outputs": [],
   "source": []
  }
 ],
 "metadata": {
  "kernelspec": {
   "display_name": "Python 3",
   "language": "python",
   "name": "python3"
  },
  "language_info": {
   "codemirror_mode": {
    "name": "ipython",
    "version": 3
   },
   "file_extension": ".py",
   "mimetype": "text/x-python",
   "name": "python",
   "nbconvert_exporter": "python",
   "pygments_lexer": "ipython3",
   "version": "3.7.4"
  }
 },
 "nbformat": 4,
 "nbformat_minor": 2
}
