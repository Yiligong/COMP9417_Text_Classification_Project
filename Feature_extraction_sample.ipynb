{
 "cells": [
  {
   "cell_type": "code",
   "execution_count": 1,
   "metadata": {},
   "outputs": [],
   "source": [
    "import numpy as np\n",
    "import pandas as pd\n",
    "from sklearn.naive_bayes import MultinomialNB, BernoulliNB\n",
    "from sklearn.ensemble import RandomForestClassifier as RFC\n",
    "from sklearn.feature_extraction.text import CountVectorizer,TfidfVectorizer\n",
    "from sklearn.metrics import accuracy_score, precision_score, recall_score, f1_score, classification_report\n",
    "\n",
    "count = CountVectorizer()\n",
    "file_train = 'training.csv'\n",
    "file_test = 'test.csv'\n",
    "df_train = pd.read_csv(file_train)\n",
    "df_test = pd.read_csv(file_test)\n",
    "train_text = df_train['article_words']\n",
    "test_text = df_test['article_words']\n",
    "all_test = pd.concat([train_text,test_text])\n",
    "\n",
    "bag_of_words = count.fit(all_test)\n",
    "X_train = bag_of_words.transform(train_text)\n",
    "y_train = df_train['topic'].to_list()\n",
    "X_test = bag_of_words.transform(test_text)\n",
    "y_test = df_test['topic'].to_list()\n",
    "\n",
    "y = y_test + y_train\n",
    "topic_dict = dict.fromkeys(y)\n",
    "topic_dict.update((k,i) for i,k in enumerate(topic_dict))\n",
    "y_train = [topic_dict[k] for k in y_train]\n",
    "y_test = [topic_dict[k] for k in y_test]"
   ]
  },
  {
   "cell_type": "code",
   "execution_count": 5,
   "metadata": {},
   "outputs": [
    {
     "data": {
      "text/plain": [
       "(9500, 3)"
      ]
     },
     "execution_count": 5,
     "metadata": {},
     "output_type": "execute_result"
    }
   ],
   "source": [
    "df_train"
   ]
  },
  {
   "cell_type": "code",
   "execution_count": null,
   "metadata": {},
   "outputs": [],
   "source": []
  }
 ],
 "metadata": {
  "kernelspec": {
   "display_name": "Python 3",
   "language": "python",
   "name": "python3"
  },
  "language_info": {
   "codemirror_mode": {
    "name": "ipython",
    "version": 3
   },
   "file_extension": ".py",
   "mimetype": "text/x-python",
   "name": "python",
   "nbconvert_exporter": "python",
   "pygments_lexer": "ipython3",
   "version": "3.7.4"
  }
 },
 "nbformat": 4,
 "nbformat_minor": 2
}
